{
 "cells": [
  {
   "cell_type": "code",
   "execution_count": null,
   "metadata": {},
   "outputs": [],
   "source": [
    "import google.ai.generativelanguage as glm\n",
    "import google.generativeai as genai\n",
    "import PIL.Image\n",
    "import io\n",
    "import base64"
   ]
  },
  {
   "cell_type": "code",
   "execution_count": null,
   "metadata": {},
   "outputs": [],
   "source": [
    "genai.configure(api_key=\"\")\n",
    "def image_extraction(images, input_text: str):\n",
    "        images_list = []\n",
    "        for image in images:\n",
    "            img = PIL.Image.open(io.BytesIO(base64.b64decode(image)))\n",
    "            images_list.append(img)\n",
    "        images_list.append(input_text)\n",
    "        model = genai.GenerativeModel('gemini-1.5-flash',\n",
    "                                      generation_config={\n",
    "                                          \"temperature\": 0.0,\n",
    "                                          \"top_p\": 1,\n",
    "                                          \"max_output_tokens\": 2048,\n",
    "                                      },)\n",
    "        \n",
    "        result = model.generate_content(images_list)\n",
    "        output = result.candidates[0].content.parts[0].text\n",
    "        return output"
   ]
  },
  {
   "cell_type": "code",
   "execution_count": null,
   "metadata": {},
   "outputs": [],
   "source": [
    "import fitz\n",
    "import os\n",
    "import base64"
   ]
  },
  {
   "cell_type": "code",
   "execution_count": null,
   "metadata": {},
   "outputs": [],
   "source": [
    "def convert_pdf_to_images(pdf_path, output_folder):\n",
    "    image_name = f\"{os.path.basename(pdf_path)}.png\"\n",
    "    image_path = os.path.join(output_folder, image_name)\n",
    "    image_base64 = []\n",
    "    with fitz.open(pdf_path) as doc:\n",
    "        page = doc[0]\n",
    "        pix = page.get_pixmap()\n",
    "        pix.save(image_path)\n",
    "    image_base64.append(base64.b64encode(open(image_path, \"rb\").read()).decode('utf-8'))\n",
    "    os.remove(image_path)\n",
    "    return image_base64"
   ]
  },
  {
   "cell_type": "code",
   "execution_count": null,
   "metadata": {},
   "outputs": [],
   "source": [
    "file_path = "
   ]
  },
  {
   "cell_type": "code",
   "execution_count": null,
   "metadata": {},
   "outputs": [],
   "source": [
    "if file_path.lower().endswith('.pdf'):\n",
    "        output_folder = os.path.dirname(file_path)\n",
    "        images = convert_pdf_to_images(file_path,output_folder)\n",
    "        prompt = \"give me the student details in json format\"\n",
    "        result = image_extraction(images, prompt)\n",
    "        print(result)"
   ]
  },
  {
   "cell_type": "code",
   "execution_count": null,
   "metadata": {},
   "outputs": [],
   "source": [
    "from azure.core.credentials import AzureKeyCredential\n",
    "from azure.ai.formrecognizer import DocumentAnalysisClient\n",
    "\n",
    "\"\"\"\n",
    "Remember to remove the key from your code when you're done, and never post it publicly. For production, use\n",
    "secure methods to store and access your credentials. For more information, see \n",
    "https://docs.microsoft.com/en-us/azure/cognitive-services/cognitive-services-security?tabs=command-line%2Ccsharp#environment-variables-and-application-configuration\n",
    "\"\"\"\n",
    "endpoint = os.environ[\"FORM_RECOGNIZER_ENDPOINT\"]\n",
    "key = os.environ[\"FORM_RECOGNIZER_KEY\"]\n",
    "\n",
    "def analyze_read():\n",
    "    # sample document\n",
    "    formUrl = \"C:/Users/laksh/Downloads/SRKR WEB PORTAL.pdf\"\n",
    "\n",
    "    document_analysis_client = DocumentAnalysisClient(\n",
    "        endpoint=endpoint, credential=AzureKeyCredential(key)\n",
    "    )\n",
    "    with open(formUrl, \"rb\") as f:\n",
    "        poller = document_analysis_client.begin_analyze_document(\"prebuilt-read\", f)\n",
    "    result = poller.result()\n",
    "\n",
    "    print (\"Document contains content: \", result.content)\n",
    "    "
   ]
  },
  {
   "cell_type": "code",
   "execution_count": null,
   "metadata": {},
   "outputs": [],
   "source": [
    "result = analyze_read()"
   ]
  }
 ],
 "metadata": {
  "kernelspec": {
   "display_name": "myenv",
   "language": "python",
   "name": "python3"
  },
  "language_info": {
   "codemirror_mode": {
    "name": "ipython",
    "version": 3
   },
   "file_extension": ".py",
   "mimetype": "text/x-python",
   "name": "python",
   "nbconvert_exporter": "python",
   "pygments_lexer": "ipython3",
   "version": "3.12.0"
  }
 },
 "nbformat": 4,
 "nbformat_minor": 2
}
