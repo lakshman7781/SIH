{
 "cells": [
  {
   "cell_type": "code",
   "execution_count": 4,
   "metadata": {},
   "outputs": [],
   "source": [
    "from openai.lib.azure import AzureOpenAI\n",
    "from dotenv import load_dotenv\n",
    "import os\n",
    "import json\n",
    "load_dotenv(\".env\")\n",
    "\n",
    "api_base = os.environ[\"API_BASE\"]\n",
    "api_key = os.environ[\"API_KEY\"]\n",
    "deployment_name = os.environ[\"DEPLOYMENT_NAME\"]\n",
    "api_version = os.environ[\"API_VERSION\"]\n",
    "\n",
    "client = AzureOpenAI(\n",
    "    api_key=api_key,\n",
    "    api_version=api_version,\n",
    "    base_url=f\"{api_base}/openai/deployments/{deployment_name}\"\n",
    ")"
   ]
  },
  {
   "cell_type": "code",
   "execution_count": 5,
   "metadata": {},
   "outputs": [],
   "source": [
    "import os\n",
    "import fitz\n",
    "import base64\n",
    "\n",
    "def convert_pdf_to_images(pdf_path, output_folder):\n",
    "    image_name = f\"{os.path.basename(pdf_path)}.png\"\n",
    "    image_path = os.path.join(output_folder, image_name)\n",
    "    image_base64 = []\n",
    "    with fitz.open(pdf_path) as doc:\n",
    "        page = doc[0]\n",
    "        pix = page.get_pixmap()\n",
    "        pix.save(image_path)\n",
    "    image_base64.append(base64.b64encode(open(image_path, \"rb\").read()).decode('utf-8'))\n",
    "    os.remove(image_path)\n",
    "    return image_base64"
   ]
  },
  {
   "cell_type": "code",
   "execution_count": 6,
   "metadata": {},
   "outputs": [],
   "source": [
    "def get_image_details(images, prompt: str):\n",
    "    messages = [\n",
    "        {\"role\": \"system\", \"content\": '''You are a helpful assistant in document analysis.and answer in json format ex:{\n",
    "            document_type: \"invoice\",\n",
    "            }, never include extra '```json\\n' and '```' in the response'''},\n",
    "        {\"role\": \"user\", \"content\": [\n",
    "            {\n",
    "                \"type\": \"text\",\n",
    "                \"text\": prompt\n",
    "            }\n",
    "        ] + [\n",
    "            {\n",
    "                \"type\": \"image_url\",\n",
    "                \"image_url\": {\n",
    "                    \"url\": f\"data:image/png;base64,{image}\"\n",
    "                }\n",
    "            } for image in images\n",
    "        ]}\n",
    "    ]\n",
    "\n",
    "    response = client.chat.completions.create(\n",
    "        model=deployment_name,\n",
    "        messages=messages,\n",
    "        max_tokens=500,\n",
    "    )\n",
    "    res = response.choices[0].message.content\n",
    "    return res"
   ]
  },
  {
   "cell_type": "code",
   "execution_count": 7,
   "metadata": {},
   "outputs": [
    {
     "data": {
      "text/plain": [
       "'{\\n    \"document_type\": \"resume\"\\n}'"
      ]
     },
     "execution_count": 7,
     "metadata": {},
     "output_type": "execute_result"
    }
   ],
   "source": [
    "pdf_path = \"C:/Users/Sahithi - Rishitha/Downloads/SIH/samples/70__ATS_rating.pdf\"\n",
    "images = convert_pdf_to_images(pdf_path, output_folder=\".\")\n",
    "prompt = \"get the dopcument type from the image\"   \n",
    "image_details = get_image_details(images, prompt)\n",
    "image_details"
   ]
  }
 ],
 "metadata": {
  "kernelspec": {
   "display_name": "text",
   "language": "python",
   "name": "python3"
  },
  "language_info": {
   "codemirror_mode": {
    "name": "ipython",
    "version": 3
   },
   "file_extension": ".py",
   "mimetype": "text/x-python",
   "name": "python",
   "nbconvert_exporter": "python",
   "pygments_lexer": "ipython3",
   "version": "3.12.4"
  }
 },
 "nbformat": 4,
 "nbformat_minor": 2
}
