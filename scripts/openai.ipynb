{
 "cells": [
  {
   "cell_type": "code",
   "execution_count": null,
   "metadata": {},
   "outputs": [],
   "source": [
    "! pip install --upgrade openai"
   ]
  },
  {
   "cell_type": "code",
   "execution_count": null,
   "metadata": {},
   "outputs": [],
   "source": [
    "! pip show openai"
   ]
  },
  {
   "cell_type": "code",
   "execution_count": null,
   "metadata": {},
   "outputs": [],
   "source": [
    "from openai.lib.azure import AzureOpenAI\n",
    "import base64\n",
    "import fitz\n",
    "import os\n",
    "api_base = \"\"\n",
    "api_key= \"\"\n",
    "deployment_name = \"\"\n",
    "api_version = \"\"\n",
    "\n",
    "client = AzureOpenAI(\n",
    "    api_key=api_key,  \n",
    "    api_version=api_version,\n",
    "    base_url=f\"{api_base}/openai/deployments/{deployment_name}\"\n",
    ")\n",
    "\n",
    "path = \"C:/Users/laksh/Downloads/Instruction Format[1].pdf\""
   ]
  },
  {
   "cell_type": "code",
   "execution_count": null,
   "metadata": {},
   "outputs": [],
   "source": [
    "def convert_pdf_to_images(pdf_path, output_folder):\n",
    "    image_name = f\"{os.path.basename(pdf_path)}.png\"\n",
    "    image_path = os.path.join(output_folder, image_name)\n",
    "    image_base64 = []\n",
    "    with fitz.open(pdf_path) as doc:\n",
    "        page = doc[0]\n",
    "        pix = page.get_pixmap()\n",
    "        pix.save(image_path)\n",
    "    image_base64.append(base64.b64encode(open(image_path, \"rb\").read()).decode('utf-8'))\n",
    "    os.remove(image_path)\n",
    "    return image_base64\n",
    "image_base64 = convert_pdf_to_images(path, \"./\")"
   ]
  },
  {
   "cell_type": "code",
   "execution_count": null,
   "metadata": {},
   "outputs": [],
   "source": [
    "image_base64"
   ]
  },
  {
   "cell_type": "code",
   "execution_count": null,
   "metadata": {},
   "outputs": [],
   "source": [
    "response = client.chat.completions.create(\n",
    "    model=deployment_name,\n",
    "    messages=[\n",
    "        { \"role\": \"system\", \"content\": \"You are a helpful assistant.\" },\n",
    "        { \"role\": \"user\", \"content\": [  \n",
    "            { \n",
    "                \"type\": \"text\", \n",
    "                \"text\": \"Get me the details of the picture in json format\"\n",
    "            },\n",
    "            {\n",
    "                \"type\": \"image_url\",\n",
    "                \"image_url\": {\n",
    "                    \"url\": f\"data:image/png;base64,{image_base64[0]}\"\n",
    "                }\n",
    "            }\n",
    "        ] } \n",
    "    ],\n",
    "    max_tokens=500,\n",
    "    response_format= { \"type\":\"json_object\" }\n",
    ")"
   ]
  },
  {
   "cell_type": "code",
   "execution_count": null,
   "metadata": {},
   "outputs": [],
   "source": [
    "res = response.choices[0].message.content\n",
    "import json \n",
    "res = json.loads(res)\n",
    "res"
   ]
  }
 ],
 "metadata": {
  "kernelspec": {
   "display_name": "Python 3",
   "language": "python",
   "name": "python3"
  },
  "language_info": {
   "codemirror_mode": {
    "name": "ipython",
    "version": 3
   },
   "file_extension": ".py",
   "mimetype": "text/x-python",
   "name": "python",
   "nbconvert_exporter": "python",
   "pygments_lexer": "ipython3",
   "version": "3.12.0"
  }
 },
 "nbformat": 4,
 "nbformat_minor": 2
}
