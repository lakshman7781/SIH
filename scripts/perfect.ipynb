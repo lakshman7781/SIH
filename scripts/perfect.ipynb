{
 "cells": [
  {
   "cell_type": "markdown",
   "metadata": {},
   "source": [
    "PERFECT FOR WORKFLOWS"
   ]
  },
  {
   "cell_type": "code",
   "execution_count": 5,
   "metadata": {},
   "outputs": [
    {
     "name": "stdout",
     "output_type": "stream",
     "text": [
      "Requirement already satisfied: perfect in c:\\users\\laksh\\anaconda3\\envs\\sih\\lib\\site-packages (0.0.1)\n"
     ]
    }
   ],
   "source": [
    "! pip install perfect"
   ]
  },
  {
   "cell_type": "code",
   "execution_count": 8,
   "metadata": {},
   "outputs": [
    {
     "name": "stdout",
     "output_type": "stream",
     "text": [
      "Name: perfect\n",
      "Version: 0.0.1\n",
      "Summary: The @perfect decorator - a utility library which makes it simpler to create flexible decorators\n",
      "Home-page: https://github.com/kalaspuff/perfect\n",
      "Author: Carl Oscar Aaro\n",
      "Author-email: hello@carloscar.com\n",
      "License: MIT\n",
      "Location: C:\\Users\\laksh\\anaconda3\\envs\\sih\\Lib\\site-packages\n",
      "Requires: \n",
      "Required-by: \n"
     ]
    }
   ],
   "source": [
    "! pip show perfect"
   ]
  },
  {
   "cell_type": "code",
   "execution_count": 10,
   "metadata": {},
   "outputs": [
    {
     "data": {
      "text/html": [
       "<pre style=\"white-space:pre;overflow-x:auto;line-height:normal;font-family:Menlo,'DejaVu Sans Mono',consolas,'Courier New',monospace\">10:35:21.156 | <span style=\"color: #008080; text-decoration-color: #008080\">INFO</span>    | prefect.engine - Created flow run<span style=\"color: #800080; text-decoration-color: #800080\"> 'prophetic-dragonfly'</span> for flow<span style=\"color: #800080; text-decoration-color: #800080; font-weight: bold\"> 'data-pipeline'</span>\n",
       "</pre>\n"
      ],
      "text/plain": [
       "10:35:21.156 | \u001b[36mINFO\u001b[0m    | prefect.engine - Created flow run\u001b[35m 'prophetic-dragonfly'\u001b[0m for flow\u001b[1;35m 'data-pipeline'\u001b[0m\n"
      ]
     },
     "metadata": {},
     "output_type": "display_data"
    },
    {
     "data": {
      "text/html": [
       "<pre style=\"white-space:pre;overflow-x:auto;line-height:normal;font-family:Menlo,'DejaVu Sans Mono',consolas,'Courier New',monospace\">10:35:21.360 | <span style=\"color: #008080; text-decoration-color: #008080\">INFO</span>    | Flow run<span style=\"color: #800080; text-decoration-color: #800080\"> 'prophetic-dragonfly'</span> - Created task run 'fetch_data-0' for task 'fetch_data'\n",
       "</pre>\n"
      ],
      "text/plain": [
       "10:35:21.360 | \u001b[36mINFO\u001b[0m    | Flow run\u001b[35m 'prophetic-dragonfly'\u001b[0m - Created task run 'fetch_data-0' for task 'fetch_data'\n"
      ]
     },
     "metadata": {},
     "output_type": "display_data"
    },
    {
     "data": {
      "text/html": [
       "<pre style=\"white-space:pre;overflow-x:auto;line-height:normal;font-family:Menlo,'DejaVu Sans Mono',consolas,'Courier New',monospace\">10:35:21.370 | <span style=\"color: #008080; text-decoration-color: #008080\">INFO</span>    | Flow run<span style=\"color: #800080; text-decoration-color: #800080\"> 'prophetic-dragonfly'</span> - Executing 'fetch_data-0' immediately...\n",
       "</pre>\n"
      ],
      "text/plain": [
       "10:35:21.370 | \u001b[36mINFO\u001b[0m    | Flow run\u001b[35m 'prophetic-dragonfly'\u001b[0m - Executing 'fetch_data-0' immediately...\n"
      ]
     },
     "metadata": {},
     "output_type": "display_data"
    },
    {
     "data": {
      "text/html": [
       "<pre style=\"white-space:pre;overflow-x:auto;line-height:normal;font-family:Menlo,'DejaVu Sans Mono',consolas,'Courier New',monospace\">10:35:23.653 | <span style=\"color: #008080; text-decoration-color: #008080\">INFO</span>    | Task run 'fetch_data-0' - Finished in state <span style=\"color: #008000; text-decoration-color: #008000\">Completed</span>()\n",
       "</pre>\n"
      ],
      "text/plain": [
       "10:35:23.653 | \u001b[36mINFO\u001b[0m    | Task run 'fetch_data-0' - Finished in state \u001b[32mCompleted\u001b[0m()\n"
      ]
     },
     "metadata": {},
     "output_type": "display_data"
    },
    {
     "data": {
      "text/html": [
       "<pre style=\"white-space:pre;overflow-x:auto;line-height:normal;font-family:Menlo,'DejaVu Sans Mono',consolas,'Courier New',monospace\">10:35:23.750 | <span style=\"color: #008080; text-decoration-color: #008080\">INFO</span>    | Flow run<span style=\"color: #800080; text-decoration-color: #800080\"> 'prophetic-dragonfly'</span> - Created task run 'process_data-0' for task 'process_data'\n",
       "</pre>\n"
      ],
      "text/plain": [
       "10:35:23.750 | \u001b[36mINFO\u001b[0m    | Flow run\u001b[35m 'prophetic-dragonfly'\u001b[0m - Created task run 'process_data-0' for task 'process_data'\n"
      ]
     },
     "metadata": {},
     "output_type": "display_data"
    },
    {
     "data": {
      "text/html": [
       "<pre style=\"white-space:pre;overflow-x:auto;line-height:normal;font-family:Menlo,'DejaVu Sans Mono',consolas,'Courier New',monospace\">10:35:23.754 | <span style=\"color: #008080; text-decoration-color: #008080\">INFO</span>    | Flow run<span style=\"color: #800080; text-decoration-color: #800080\"> 'prophetic-dragonfly'</span> - Executing 'process_data-0' immediately...\n",
       "</pre>\n"
      ],
      "text/plain": [
       "10:35:23.754 | \u001b[36mINFO\u001b[0m    | Flow run\u001b[35m 'prophetic-dragonfly'\u001b[0m - Executing 'process_data-0' immediately...\n"
      ]
     },
     "metadata": {},
     "output_type": "display_data"
    },
    {
     "data": {
      "text/html": [
       "<pre style=\"white-space:pre;overflow-x:auto;line-height:normal;font-family:Menlo,'DejaVu Sans Mono',consolas,'Courier New',monospace\">10:35:24.897 | <span style=\"color: #008080; text-decoration-color: #008080\">INFO</span>    | Task run 'process_data-0' - Finished in state <span style=\"color: #008000; text-decoration-color: #008000\">Completed</span>()\n",
       "</pre>\n"
      ],
      "text/plain": [
       "10:35:24.897 | \u001b[36mINFO\u001b[0m    | Task run 'process_data-0' - Finished in state \u001b[32mCompleted\u001b[0m()\n"
      ]
     },
     "metadata": {},
     "output_type": "display_data"
    },
    {
     "data": {
      "text/html": [
       "<pre style=\"white-space:pre;overflow-x:auto;line-height:normal;font-family:Menlo,'DejaVu Sans Mono',consolas,'Courier New',monospace\">10:35:24.951 | <span style=\"color: #008080; text-decoration-color: #008080\">INFO</span>    | Flow run<span style=\"color: #800080; text-decoration-color: #800080\"> 'prophetic-dragonfly'</span> - Created task run 'store_result-0' for task 'store_result'\n",
       "</pre>\n"
      ],
      "text/plain": [
       "10:35:24.951 | \u001b[36mINFO\u001b[0m    | Flow run\u001b[35m 'prophetic-dragonfly'\u001b[0m - Created task run 'store_result-0' for task 'store_result'\n"
      ]
     },
     "metadata": {},
     "output_type": "display_data"
    },
    {
     "data": {
      "text/html": [
       "<pre style=\"white-space:pre;overflow-x:auto;line-height:normal;font-family:Menlo,'DejaVu Sans Mono',consolas,'Courier New',monospace\">10:35:24.954 | <span style=\"color: #008080; text-decoration-color: #008080\">INFO</span>    | Flow run<span style=\"color: #800080; text-decoration-color: #800080\"> 'prophetic-dragonfly'</span> - Executing 'store_result-0' immediately...\n",
       "</pre>\n"
      ],
      "text/plain": [
       "10:35:24.954 | \u001b[36mINFO\u001b[0m    | Flow run\u001b[35m 'prophetic-dragonfly'\u001b[0m - Executing 'store_result-0' immediately...\n"
      ]
     },
     "metadata": {},
     "output_type": "display_data"
    },
    {
     "name": "stdout",
     "output_type": "stream",
     "text": [
      "Stored: Processed: Data for ID 42\n"
     ]
    },
    {
     "data": {
      "text/html": [
       "<pre style=\"white-space:pre;overflow-x:auto;line-height:normal;font-family:Menlo,'DejaVu Sans Mono',consolas,'Courier New',monospace\">10:35:26.127 | <span style=\"color: #008080; text-decoration-color: #008080\">INFO</span>    | Task run 'store_result-0' - Finished in state <span style=\"color: #008000; text-decoration-color: #008000\">Completed</span>()\n",
       "</pre>\n"
      ],
      "text/plain": [
       "10:35:26.127 | \u001b[36mINFO\u001b[0m    | Task run 'store_result-0' - Finished in state \u001b[32mCompleted\u001b[0m()\n"
      ]
     },
     "metadata": {},
     "output_type": "display_data"
    },
    {
     "data": {
      "text/html": [
       "<pre style=\"white-space:pre;overflow-x:auto;line-height:normal;font-family:Menlo,'DejaVu Sans Mono',consolas,'Courier New',monospace\">10:35:26.212 | <span style=\"color: #008080; text-decoration-color: #008080\">INFO</span>    | Flow run<span style=\"color: #800080; text-decoration-color: #800080\"> 'prophetic-dragonfly'</span> - Finished in state <span style=\"color: #008000; text-decoration-color: #008000\">Completed</span>('All states completed.')\n",
       "</pre>\n"
      ],
      "text/plain": [
       "10:35:26.212 | \u001b[36mINFO\u001b[0m    | Flow run\u001b[35m 'prophetic-dragonfly'\u001b[0m - Finished in state \u001b[32mCompleted\u001b[0m('All states completed.')\n"
      ]
     },
     "metadata": {},
     "output_type": "display_data"
    }
   ],
   "source": [
    "# Install Prefect: pip install prefect\n",
    "\n",
    "from prefect import flow, task\n",
    "from prefect.task_runners import SequentialTaskRunner\n",
    "import time\n",
    "\n",
    "@task\n",
    "def fetch_data(data_id: int):\n",
    "    # Simulate fetching data\n",
    "    time.sleep(2)\n",
    "    return f\"Data for ID {data_id}\"\n",
    "\n",
    "@task\n",
    "def process_data(data: str):\n",
    "    # Simulate processing data\n",
    "    time.sleep(1)\n",
    "    return f\"Processed: {data}\"\n",
    "\n",
    "@task\n",
    "def store_result(result: str):\n",
    "    # Simulate storing the result\n",
    "    time.sleep(1)\n",
    "    print(f\"Stored: {result}\")\n",
    "\n",
    "@flow(task_runner=SequentialTaskRunner())\n",
    "def data_pipeline(data_id: int):\n",
    "    raw_data = fetch_data(data_id)\n",
    "    processed_data = process_data(raw_data)\n",
    "    store_result(processed_data)\n",
    "\n",
    "if __name__ == \"__main__\":\n",
    "    data_pipeline(42)"
   ]
  }
 ],
 "metadata": {
  "kernelspec": {
   "display_name": "sih",
   "language": "python",
   "name": "python3"
  },
  "language_info": {
   "codemirror_mode": {
    "name": "ipython",
    "version": 3
   },
   "file_extension": ".py",
   "mimetype": "text/x-python",
   "name": "python",
   "nbconvert_exporter": "python",
   "pygments_lexer": "ipython3",
   "version": "3.12.5"
  }
 },
 "nbformat": 4,
 "nbformat_minor": 2
}
